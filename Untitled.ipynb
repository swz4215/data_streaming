{
 "cells": [
  {
   "cell_type": "code",
   "execution_count": 23,
   "id": "9be2e971",
   "metadata": {},
   "outputs": [],
   "source": [
    "import pandas\n",
    "import os\n",
    "from pyspark import SparkContext\n",
    "from pyspark.sql import SparkSession\n",
    "from pyspark.sql.types import StructType, StructField, DoubleType, StringType, DateType, IntegerType\n",
    "\n",
    "sc = SparkContext.getOrCreate()\n",
    "spark = SparkSession(sc)\n"
   ]
  },
  {
   "cell_type": "code",
   "execution_count": 2,
   "id": "1c37bc44",
   "metadata": {},
   "outputs": [
    {
     "name": "stdout",
     "output_type": "stream",
     "text": [
      "      data_casenum   dateReport (date) itype Zone Category Vehicle Related?\n",
      "0         21-38561 2021-08-17 20:46:00   23H   Z3    Other                N\n",
      "1         21-38559 2021-08-17 20:10:00   23C   Z2    Other                N\n",
      "2         21-38559 2021-08-17 20:10:00   23C   Z1    Other                N\n",
      "3         21-38557 2021-08-17 19:27:00   91J   Z5  Larceny                N\n",
      "4         21-38547 2021-08-17 18:57:00   35A   Z8    Other                N\n",
      "...            ...                 ...   ...  ...      ...              ...\n",
      "31993     17-25174 2017-06-01 11:23:00   23C   Z1    Other                N\n",
      "31994     17-25173 2017-06-01 10:44:00   23C   Z4    Other                N\n",
      "31995     17-25198 2017-06-01 10:13:00   90F   Z6  Larceny                N\n",
      "31996     17-25198 2017-06-01 10:13:00   13B   Z7    Other                Y\n",
      "31997     17-25185 2017-06-01 09:40:00   520   Z4    Other                N\n",
      "\n",
      "[31998 rows x 6 columns]\n"
     ]
    },
    {
     "data": {
      "text/plain": [
       "data_casenum                 object\n",
       "dateReport (date)    datetime64[ns]\n",
       "itype                        object\n",
       "Zone                         object\n",
       "Category                     object\n",
       "Vehicle Related?             object\n",
       "dtype: object"
      ]
     },
     "execution_count": 2,
     "metadata": {},
     "output_type": "execute_result"
    }
   ],
   "source": [
    "df = pandas.read_excel('C:\\\\Projects\\\\JsonTransform\\\\Offenses Data Test.xlsx', sheet_name='Sheet1')\n",
    "print(df)\n",
    "df.dtypes"
   ]
  },
  {
   "cell_type": "code",
   "execution_count": 4,
   "id": "378f4ee0",
   "metadata": {},
   "outputs": [],
   "source": [
    "sparkDF = spark.read.format(\"csv\").option(\"header\",\"true\").load('C:\\\\Projects\\\\JsonTransform\\\\Offenses Data Test.csv')"
   ]
  },
  {
   "cell_type": "code",
   "execution_count": 5,
   "id": "27394486",
   "metadata": {},
   "outputs": [
    {
     "name": "stdout",
     "output_type": "stream",
     "text": [
      "+------------+-----------------+-----+----+--------+----------------+\n",
      "|data_casenum|dateReport (date)|itype|Zone|Category|Vehicle Related?|\n",
      "+------------+-----------------+-----+----+--------+----------------+\n",
      "|    21-38561|       08/17/2021|  23H|  Z3|   Other|               N|\n",
      "|    21-38559|       08/17/2021|  23C|  Z2|   Other|               N|\n",
      "|    21-38559|       08/17/2021|  23C|  Z1|   Other|               N|\n",
      "|    21-38557|       08/17/2021|  91J|  Z5| Larceny|               N|\n",
      "|    21-38547|       08/17/2021|  35A|  Z8|   Other|               N|\n",
      "|    21-38547|       08/17/2021|  520|  Z8|   Other|               N|\n",
      "|    21-38547|       08/17/2021|  520|  Z8|   Other|               N|\n",
      "|    21-38547|       08/17/2021|  520|  Z8|   Other|               N|\n",
      "|    21-38554|       08/17/2021|  91V|  Z2|   Other|               N|\n",
      "|    21-38546|       08/17/2021|  13B|  Z8|   Other|               N|\n",
      "+------------+-----------------+-----+----+--------+----------------+\n",
      "only showing top 10 rows\n",
      "\n"
     ]
    }
   ],
   "source": [
    "sparkDF.show(10)"
   ]
  },
  {
   "cell_type": "code",
   "execution_count": 6,
   "id": "3688373c",
   "metadata": {},
   "outputs": [
    {
     "data": {
      "text/plain": [
       "StructType([StructField('data_casenum', StringType(), True), StructField('dateReport (date)', StringType(), True), StructField('itype', StringType(), True), StructField('Zone', StringType(), True), StructField('Category', StringType(), True), StructField('Vehicle Related?', StringType(), True)])"
      ]
     },
     "execution_count": 6,
     "metadata": {},
     "output_type": "execute_result"
    }
   ],
   "source": [
    "sparkDF.schema"
   ]
  },
  {
   "cell_type": "code",
   "execution_count": 8,
   "id": "4ef9d5a8",
   "metadata": {},
   "outputs": [],
   "source": [
    "sparkDF.createOrReplaceTempView(\"Offenses\")"
   ]
  },
  {
   "cell_type": "code",
   "execution_count": 11,
   "id": "c9a88c57",
   "metadata": {},
   "outputs": [
    {
     "name": "stdout",
     "output_type": "stream",
     "text": [
      "+------------+-----------------+-----+----+--------+----------------+\n",
      "|data_casenum|dateReport (date)|itype|Zone|Category|Vehicle Related?|\n",
      "+------------+-----------------+-----+----+--------+----------------+\n",
      "|    21-38557|       08/17/2021|  91J|  Z5| Larceny|               N|\n",
      "|    21-38347|       08/16/2021|  280|  Z2| Larceny|               N|\n",
      "|    21-38335|       08/15/2021|  91I|  Z8| Larceny|               N|\n",
      "|    21-38139|       08/15/2021|  290|  Z7| Larceny|               N|\n",
      "|    21-38257|       08/15/2021|  90C|  Z4| Larceny|               N|\n",
      "|    21-38223|       08/14/2021|  23H|  Z1| Larceny|               N|\n",
      "|    21-38211|       08/14/2021|  91V|  Z3| Larceny|               N|\n",
      "|    21-38210|       08/14/2021|  23H|  Z3| Larceny|               N|\n",
      "|    21-38222|       08/14/2021|  91V|  Z1| Larceny|               N|\n",
      "|    21-38216|       08/14/2021|  23G|  Z1| Larceny|               N|\n",
      "|    21-38216|       08/14/2021|  290|  Z1| Larceny|               N|\n",
      "|    21-38208|       08/14/2021|  91C|  Z1| Larceny|               N|\n",
      "|    21-38208|       08/14/2021|  91C|  Z1| Larceny|               N|\n",
      "|    21-38140|       08/14/2021|  91S|  Z1| Larceny|               N|\n",
      "|    21-38198|       08/14/2021|  23F|  Z1| Larceny|               N|\n",
      "|    21-38193|       08/14/2021|  90Z|  Z1| Larceny|               N|\n",
      "|    21-38079|       08/13/2021|  753|  Z1| Larceny|               N|\n",
      "|    21-38097|       08/13/2021|  90C|  Z1| Larceny|               N|\n",
      "|    21-38060|       08/13/2021|  23C|  Z1| Larceny|               N|\n",
      "|    21-38075|       08/13/2021|  23D|  Z1| Larceny|               N|\n",
      "+------------+-----------------+-----+----+--------+----------------+\n",
      "only showing top 20 rows\n",
      "\n"
     ]
    }
   ],
   "source": [
    "spark.sql(\"select * from Offenses where Category = 'Larceny'\").show()"
   ]
  },
  {
   "cell_type": "code",
   "execution_count": 12,
   "id": "4e5f9a96",
   "metadata": {},
   "outputs": [
    {
     "name": "stdout",
     "output_type": "stream",
     "text": [
      "+--------+\n",
      "|Category|\n",
      "+--------+\n",
      "| Larceny|\n",
      "|    Rape|\n",
      "|Homicide|\n",
      "|   Other|\n",
      "+--------+\n",
      "\n"
     ]
    }
   ],
   "source": [
    "spark.sql(\"select distinct Category from Offenses\").show()"
   ]
  },
  {
   "cell_type": "code",
   "execution_count": null,
   "id": "0b723984",
   "metadata": {},
   "outputs": [],
   "source": []
  },
  {
   "cell_type": "code",
   "execution_count": 37,
   "id": "e857be0d",
   "metadata": {},
   "outputs": [],
   "source": [
    "def convertCategory(cat):\n",
    "    catId='1'\n",
    "    if(cat == 'Larceny'):\n",
    "        catId = '1'\n",
    "    elif (cat == 'Rape'):\n",
    "        catId = '2'\n",
    "    elif (cat == 'Homicide'):\n",
    "        catId = '3'\n",
    "    elif (cat == 'Other'):\n",
    "        catId = '4'\n",
    "    return catId "
   ]
  },
  {
   "cell_type": "code",
   "execution_count": 38,
   "id": "208260c9",
   "metadata": {},
   "outputs": [
    {
     "data": {
      "text/plain": [
       "<function __main__.convertCategory(cat)>"
      ]
     },
     "execution_count": 38,
     "metadata": {},
     "output_type": "execute_result"
    }
   ],
   "source": [
    "from pyspark.sql.functions import udf\n",
    "\n",
    "spark.udf.register('convertUDF', convertCategory, StringType())"
   ]
  },
  {
   "cell_type": "code",
   "execution_count": 42,
   "id": "9b5c8a06",
   "metadata": {},
   "outputs": [],
   "source": [
    "df2 = spark.sql(\"select Category, convertUDF(Category) as CategoryId from Offenses\")"
   ]
  },
  {
   "cell_type": "code",
   "execution_count": 45,
   "id": "27480630",
   "metadata": {},
   "outputs": [
    {
     "data": {
      "text/plain": [
       "StructType([StructField('Category', StringType(), True), StructField('CategoryId', StringType(), True)])"
      ]
     },
     "execution_count": 45,
     "metadata": {},
     "output_type": "execute_result"
    }
   ],
   "source": [
    "df2.schema"
   ]
  },
  {
   "cell_type": "code",
   "execution_count": 46,
   "id": "2b1daff3",
   "metadata": {},
   "outputs": [
    {
     "ename": "PythonException",
     "evalue": "\n  An exception was thrown from the Python worker. Please see the stack trace below.\nTraceback (most recent call last):\n  File \"C:\\Apps\\spark-3.3.0-bin-hadoop3\\python\\lib\\pyspark.zip\\pyspark\\worker.py\", line 540, in main\nRuntimeError: Python in worker has different version 3.10 than that in driver 3.9, PySpark cannot run with different minor versions. Please check environment variables PYSPARK_PYTHON and PYSPARK_DRIVER_PYTHON are correctly set.\n",
     "output_type": "error",
     "traceback": [
      "\u001b[1;31m---------------------------------------------------------------------------\u001b[0m",
      "\u001b[1;31mPythonException\u001b[0m                           Traceback (most recent call last)",
      "Input \u001b[1;32mIn [46]\u001b[0m, in \u001b[0;36m<cell line: 1>\u001b[1;34m()\u001b[0m\n\u001b[1;32m----> 1\u001b[0m \u001b[43mdf2\u001b[49m\u001b[38;5;241;43m.\u001b[39;49m\u001b[43mshow\u001b[49m\u001b[43m(\u001b[49m\u001b[43m)\u001b[49m\n",
      "File \u001b[1;32m~\\anaconda3\\lib\\site-packages\\pyspark\\sql\\dataframe.py:606\u001b[0m, in \u001b[0;36mDataFrame.show\u001b[1;34m(self, n, truncate, vertical)\u001b[0m\n\u001b[0;32m    603\u001b[0m     \u001b[38;5;28;01mraise\u001b[39;00m \u001b[38;5;167;01mTypeError\u001b[39;00m(\u001b[38;5;124m\"\u001b[39m\u001b[38;5;124mParameter \u001b[39m\u001b[38;5;124m'\u001b[39m\u001b[38;5;124mvertical\u001b[39m\u001b[38;5;124m'\u001b[39m\u001b[38;5;124m must be a bool\u001b[39m\u001b[38;5;124m\"\u001b[39m)\n\u001b[0;32m    605\u001b[0m \u001b[38;5;28;01mif\u001b[39;00m \u001b[38;5;28misinstance\u001b[39m(truncate, \u001b[38;5;28mbool\u001b[39m) \u001b[38;5;129;01mand\u001b[39;00m truncate:\n\u001b[1;32m--> 606\u001b[0m     \u001b[38;5;28mprint\u001b[39m(\u001b[38;5;28;43mself\u001b[39;49m\u001b[38;5;241;43m.\u001b[39;49m\u001b[43m_jdf\u001b[49m\u001b[38;5;241;43m.\u001b[39;49m\u001b[43mshowString\u001b[49m\u001b[43m(\u001b[49m\u001b[43mn\u001b[49m\u001b[43m,\u001b[49m\u001b[43m \u001b[49m\u001b[38;5;241;43m20\u001b[39;49m\u001b[43m,\u001b[49m\u001b[43m \u001b[49m\u001b[43mvertical\u001b[49m\u001b[43m)\u001b[49m)\n\u001b[0;32m    607\u001b[0m \u001b[38;5;28;01melse\u001b[39;00m:\n\u001b[0;32m    608\u001b[0m     \u001b[38;5;28;01mtry\u001b[39;00m:\n",
      "File \u001b[1;32m~\\anaconda3\\lib\\site-packages\\py4j\\java_gateway.py:1321\u001b[0m, in \u001b[0;36mJavaMember.__call__\u001b[1;34m(self, *args)\u001b[0m\n\u001b[0;32m   1315\u001b[0m command \u001b[38;5;241m=\u001b[39m proto\u001b[38;5;241m.\u001b[39mCALL_COMMAND_NAME \u001b[38;5;241m+\u001b[39m\\\n\u001b[0;32m   1316\u001b[0m     \u001b[38;5;28mself\u001b[39m\u001b[38;5;241m.\u001b[39mcommand_header \u001b[38;5;241m+\u001b[39m\\\n\u001b[0;32m   1317\u001b[0m     args_command \u001b[38;5;241m+\u001b[39m\\\n\u001b[0;32m   1318\u001b[0m     proto\u001b[38;5;241m.\u001b[39mEND_COMMAND_PART\n\u001b[0;32m   1320\u001b[0m answer \u001b[38;5;241m=\u001b[39m \u001b[38;5;28mself\u001b[39m\u001b[38;5;241m.\u001b[39mgateway_client\u001b[38;5;241m.\u001b[39msend_command(command)\n\u001b[1;32m-> 1321\u001b[0m return_value \u001b[38;5;241m=\u001b[39m \u001b[43mget_return_value\u001b[49m\u001b[43m(\u001b[49m\n\u001b[0;32m   1322\u001b[0m \u001b[43m    \u001b[49m\u001b[43manswer\u001b[49m\u001b[43m,\u001b[49m\u001b[43m \u001b[49m\u001b[38;5;28;43mself\u001b[39;49m\u001b[38;5;241;43m.\u001b[39;49m\u001b[43mgateway_client\u001b[49m\u001b[43m,\u001b[49m\u001b[43m \u001b[49m\u001b[38;5;28;43mself\u001b[39;49m\u001b[38;5;241;43m.\u001b[39;49m\u001b[43mtarget_id\u001b[49m\u001b[43m,\u001b[49m\u001b[43m \u001b[49m\u001b[38;5;28;43mself\u001b[39;49m\u001b[38;5;241;43m.\u001b[39;49m\u001b[43mname\u001b[49m\u001b[43m)\u001b[49m\n\u001b[0;32m   1324\u001b[0m \u001b[38;5;28;01mfor\u001b[39;00m temp_arg \u001b[38;5;129;01min\u001b[39;00m temp_args:\n\u001b[0;32m   1325\u001b[0m     temp_arg\u001b[38;5;241m.\u001b[39m_detach()\n",
      "File \u001b[1;32m~\\anaconda3\\lib\\site-packages\\pyspark\\sql\\utils.py:196\u001b[0m, in \u001b[0;36mcapture_sql_exception.<locals>.deco\u001b[1;34m(*a, **kw)\u001b[0m\n\u001b[0;32m    192\u001b[0m converted \u001b[38;5;241m=\u001b[39m convert_exception(e\u001b[38;5;241m.\u001b[39mjava_exception)\n\u001b[0;32m    193\u001b[0m \u001b[38;5;28;01mif\u001b[39;00m \u001b[38;5;129;01mnot\u001b[39;00m \u001b[38;5;28misinstance\u001b[39m(converted, UnknownException):\n\u001b[0;32m    194\u001b[0m     \u001b[38;5;66;03m# Hide where the exception came from that shows a non-Pythonic\u001b[39;00m\n\u001b[0;32m    195\u001b[0m     \u001b[38;5;66;03m# JVM exception message.\u001b[39;00m\n\u001b[1;32m--> 196\u001b[0m     \u001b[38;5;28;01mraise\u001b[39;00m converted \u001b[38;5;28;01mfrom\u001b[39;00m \u001b[38;5;28mNone\u001b[39m\n\u001b[0;32m    197\u001b[0m \u001b[38;5;28;01melse\u001b[39;00m:\n\u001b[0;32m    198\u001b[0m     \u001b[38;5;28;01mraise\u001b[39;00m\n",
      "\u001b[1;31mPythonException\u001b[0m: \n  An exception was thrown from the Python worker. Please see the stack trace below.\nTraceback (most recent call last):\n  File \"C:\\Apps\\spark-3.3.0-bin-hadoop3\\python\\lib\\pyspark.zip\\pyspark\\worker.py\", line 540, in main\nRuntimeError: Python in worker has different version 3.10 than that in driver 3.9, PySpark cannot run with different minor versions. Please check environment variables PYSPARK_PYTHON and PYSPARK_DRIVER_PYTHON are correctly set.\n"
     ]
    }
   ],
   "source": [
    "df2.show()"
   ]
  },
  {
   "cell_type": "code",
   "execution_count": null,
   "id": "d28acc6c",
   "metadata": {},
   "outputs": [],
   "source": []
  },
  {
   "cell_type": "code",
   "execution_count": null,
   "id": "2c8c4919",
   "metadata": {},
   "outputs": [],
   "source": [
    "schema = StructType([StructField(\"data_casenum\", StringType(), True), StructField(\"dateReport (date)\", DateType(), True), StructField(\"itype\", StringType(), True), StructField(\"Zone\", StringType(), True), StructField(\"Category\", StringType(), True), StructField(\"Vehicle Related?\", StringType(), True)])\n",
    "sdf = spark.createDataFrame(df, schema=schema)\n",
    "sdf.show()"
   ]
  }
 ],
 "metadata": {
  "kernelspec": {
   "display_name": "Python 3 (ipykernel)",
   "language": "python",
   "name": "python3"
  },
  "language_info": {
   "codemirror_mode": {
    "name": "ipython",
    "version": 3
   },
   "file_extension": ".py",
   "mimetype": "text/x-python",
   "name": "python",
   "nbconvert_exporter": "python",
   "pygments_lexer": "ipython3",
   "version": "3.9.12"
  }
 },
 "nbformat": 4,
 "nbformat_minor": 5
}

{
 "cells": [
  {
   "cell_type": "code",
   "execution_count": null,
   "id": "55bbf927",
   "metadata": {},
   "outputs": [],
   "source": [
    "from kafka import KafkaProducer\n",
    "import json\n",
    "\n",
    "producer = KafkaProducer(retries=5, bootstrap_servers=['localhost:29092'],\n",
    "                        value_serializer=lambda v: json.dumps(v).encode('ascii'))\n",
    "producer.send(\n",
    " 'myevents',\n",
    " value={\"name\": \"Billy G\", \"action\": \"just another play\"}\n",
    "    \n",
    ")\n",
    "producer.flush()"
   ]
  },
  {
   "cell_type": "code",
   "execution_count": null,
   "id": "21f9ee9e",
   "metadata": {},
   "outputs": [],
   "source": [
    "producer.send(\n",
    " 'myevents',\n",
    " value={\"name\": \"Chuck Guo\",\n",
    "       \"Action\": \"Playing another game\"}\n",
    ")\n",
    "producer.flush()"
   ]
  },
  {
   "cell_type": "code",
   "execution_count": null,
   "id": "3d18d6a4",
   "metadata": {},
   "outputs": [],
   "source": [
    "from kafka import KafkaConsumer\n",
    "import json\n",
    "\n",
    "consumer = KafkaConsumer(\n",
    " bootstrap_servers=['localhost:29092'],\n",
    " value_deserializer = lambda v: v.decode('ascii'),\n",
    " auto_offset_reset='earliest'\n",
    ")"
   ]
  },
  {
   "cell_type": "code",
   "execution_count": null,
   "id": "193dcb2e",
   "metadata": {},
   "outputs": [],
   "source": [
    "producer = KafkaProducer(bootstrap_servers=['localhost:29092'])\n",
    "with open('sample_dataaa.csv') as f:\n",
    "     lines = f.readlines()\n",
    "\n",
    "for line in lines:\n",
    "    producer.send('myevents', json.dumps(line).encode('utf-8'))\n",
    "    producer.flush()\n"
   ]
  },
  {
   "cell_type": "code",
   "execution_count": null,
   "id": "308a976d",
   "metadata": {},
   "outputs": [],
   "source": [
    "consumer = KafkaConsumer(bootstrap_servers=['localhost:29092'], auto_offset_reset='earliest')\n",
    "consumer.subscribe(['myevents'])\n",
    "\n",
    "\n",
    "for event in consumer:\n",
    "    print(event)\n"
   ]
  },
  {
   "cell_type": "code",
   "execution_count": null,
   "id": "af6f0da9",
   "metadata": {},
   "outputs": [],
   "source": []
  },
  {
   "cell_type": "code",
   "execution_count": null,
   "id": "c7396127",
   "metadata": {},
   "outputs": [],
   "source": []
  }
 ],
 "metadata": {
  "kernelspec": {
   "display_name": "Python 3 (ipykernel)",
   "language": "python",
   "name": "python3"
  },
  "language_info": {
   "codemirror_mode": {
    "name": "ipython",
    "version": 3
   },
   "file_extension": ".py",
   "mimetype": "text/x-python",
   "name": "python",
   "nbconvert_exporter": "python",
   "pygments_lexer": "ipython3",
   "version": "3.9.12"
  }
 },
 "nbformat": 4,
 "nbformat_minor": 5
}

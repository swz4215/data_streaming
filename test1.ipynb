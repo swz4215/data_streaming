{
 "cells": [
  {
   "cell_type": "code",
   "execution_count": 1,
   "id": "9f417f66-8ff9-44b4-84de-ef34b73fb0fa",
   "metadata": {},
   "outputs": [],
   "source": [
    "from kafka import KafkaProducer\n",
    "import json"
   ]
  },
  {
   "cell_type": "code",
   "execution_count": 2,
   "id": "182e37a8-c65b-46f5-b4db-95c45335e87f",
   "metadata": {},
   "outputs": [],
   "source": [
    "with open('C:\\\\Apps\\\\boss\\\\Boss\\\\scripts\\\\test.json') as f:\n",
    "   data = json.load(f)"
   ]
  },
  {
   "cell_type": "code",
   "execution_count": 3,
   "id": "be947677-069f-449c-8667-fdcf4c40ddae",
   "metadata": {},
   "outputs": [
    {
     "name": "stdout",
     "output_type": "stream",
     "text": [
      "{'users': [{'id': 'a1', 'title': 'architect', 'first': 'chuck', 'last': 'guo'}, {'id': 'a2', 'title': 'architect', 'first': 'billy', 'last': 'guo'}]}\n"
     ]
    }
   ],
   "source": [
    "print(data)"
   ]
  },
  {
   "cell_type": "code",
   "execution_count": null,
   "id": "ebe292ed-1b00-47f5-bad1-99b172601c6a",
   "metadata": {},
   "outputs": [],
   "source": [
    "producer = KafkaProducer(bootstrap_servers=['localhost:32181'])\n",
    "with open('C:\\\\Projects\\\\data_streaming\\\\data\\\\sample_dataaa.csv') as f:\n",
    "     lines = f.readlines()\n",
    "\n",
    "for line in lines:\n",
    "    print(line)\n",
    "    producer.send('first_kafka_topic', json.dumps(line).encode('utf-8'))\n",
    "\n"
   ]
  },
  {
   "cell_type": "code",
   "execution_count": null,
   "id": "3aec76f7-ce23-449b-a669-6c38dde3ddfd",
   "metadata": {},
   "outputs": [],
   "source": [
    "producer.flush()\n",
    "\n",
    "from kafka import KafkaConsumer\n",
    "consumer = KafkaConsumer(bootstrap_servers=['localhost:32181'], auto_offset_reset='earliest')\n",
    "consumer.subscribe(['first_kafka_topic'])\n",
    "\n",
    "\n",
    "for event in consumer:\n",
    "    print(event)"
   ]
  },
  {
   "cell_type": "code",
   "execution_count": null,
   "id": "750e7fcd-835a-4ed9-932b-bc0641b889a3",
   "metadata": {},
   "outputs": [],
   "source": []
  }
 ],
 "metadata": {
  "kernelspec": {
   "display_name": "Python 3 (ipykernel)",
   "language": "python",
   "name": "python3"
  },
  "language_info": {
   "codemirror_mode": {
    "name": "ipython",
    "version": 3
   },
   "file_extension": ".py",
   "mimetype": "text/x-python",
   "name": "python",
   "nbconvert_exporter": "python",
   "pygments_lexer": "ipython3",
   "version": "3.9.12"
  }
 },
 "nbformat": 4,
 "nbformat_minor": 5
}

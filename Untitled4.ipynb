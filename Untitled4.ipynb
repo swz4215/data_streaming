{
 "cells": [
  {
   "cell_type": "code",
   "execution_count": 28,
   "id": "70b9d539",
   "metadata": {},
   "outputs": [],
   "source": [
    "import http.client\n",
    "import json\n",
    "import sys\n",
    "import time\n",
    "from datetime import datetime\n",
    "from argparse import ArgumentParser\n",
    "import os\n",
    "\n",
    "data = sys.stdin.read()"
   ]
  },
  {
   "cell_type": "code",
   "execution_count": 39,
   "id": "56cfba05",
   "metadata": {},
   "outputs": [],
   "source": [
    "sourceFile = \"C:\\\\Users\\\\Chuck.Guo\\\\AppData\\\\Roaming\\\\PRODUCTION_MX\\\\landing\\\\kernel-d70314da-fa3b-43f3-ab74-9d05652d4dbe.json\""
   ]
  },
  {
   "cell_type": "code",
   "execution_count": 40,
   "id": "5d8c63f2",
   "metadata": {},
   "outputs": [
    {
     "name": "stdout",
     "output_type": "stream",
     "text": [
      "kernel-d70314da-fa3b-43f3-ab74-9d05652d4dbe.json\n"
     ]
    }
   ],
   "source": [
    "print(os.path.basename(sourceFile))"
   ]
  },
  {
   "cell_type": "code",
   "execution_count": 41,
   "id": "abd4c5cf",
   "metadata": {},
   "outputs": [
    {
     "name": "stdout",
     "output_type": "stream",
     "text": [
      "PRODUCTION_MX\n"
     ]
    }
   ],
   "source": [
    "loadName = ''\n",
    "if((loadName is None or loadName == '') and 'landing' in sourceFile):\n",
    "    head, tail = os.path.split(sourceFile)\n",
    "    head, tail = os.path.split(head)\n",
    "    head, loadName = os.path.split(head)\n",
    "print(loadName)"
   ]
  },
  {
   "cell_type": "code",
   "execution_count": null,
   "id": "baceea99",
   "metadata": {},
   "outputs": [],
   "source": []
  }
 ],
 "metadata": {
  "kernelspec": {
   "display_name": "Python 3 (ipykernel)",
   "language": "python",
   "name": "python3"
  },
  "language_info": {
   "codemirror_mode": {
    "name": "ipython",
    "version": 3
   },
   "file_extension": ".py",
   "mimetype": "text/x-python",
   "name": "python",
   "nbconvert_exporter": "python",
   "pygments_lexer": "ipython3",
   "version": "3.9.12"
  }
 },
 "nbformat": 4,
 "nbformat_minor": 5
}
